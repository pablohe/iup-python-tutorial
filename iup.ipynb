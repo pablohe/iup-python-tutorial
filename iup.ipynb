{
 "cells": [
  {
   "cell_type": "markdown",
   "metadata": {},
   "source": [
    "<img src=\"img/ub-iup-logo_640.jpg\" width=400 />\n",
    "\n",
    "\n",
    "\n",
    "# IUP Python Tutorial\n"
   ]
  },
  {
   "cell_type": "markdown",
   "metadata": {},
   "source": [
    "# What is and how can I work with python?\n",
    "\n",
    "Python is an interpreted, high-level, and general-purpose programming language. Python's design philosophy emphasizes code readability with its notable use of significant whitespace. Its language constructs and object-oriented approach aim to help programmers write clear, logical code for small and large-scale projects.\n",
    "\n",
    "https://en.wikipedia.org/wiki/Python_(programming_language)\n",
    "\n",
    "You can work using python:\n",
    " - Any IDE e.g. Pycharm, Visual Studio Code\n",
    " - From terminal using Ipython\n",
    " - Putting your code in a text file (usually with .py extension)\n",
    " \n",
    " - Jupyter notebook (overview)"
   ]
  },
  {
   "cell_type": "markdown",
   "metadata": {},
   "source": [
    "# Basic overview"
   ]
  },
  {
   "cell_type": "code",
   "execution_count": 370,
   "metadata": {},
   "outputs": [
    {
     "name": "stdout",
     "output_type": "stream",
     "text": [
      "2\n"
     ]
    }
   ],
   "source": [
    "# coment\n",
    "# Variable definition\n",
    "my_int = 2\n",
    "my_string = 'hello world'\n",
    "my_real = 2.0\n",
    "\n",
    "print(my_int)"
   ]
  },
  {
   "cell_type": "code",
   "execution_count": 371,
   "metadata": {},
   "outputs": [
    {
     "name": "stdout",
     "output_type": "stream",
     "text": [
      "hello world\n"
     ]
    }
   ],
   "source": [
    "print(my_string)"
   ]
  },
  {
   "cell_type": "code",
   "execution_count": 372,
   "metadata": {},
   "outputs": [
    {
     "data": {
      "text/plain": [
       "60.0"
      ]
     },
     "execution_count": 372,
     "metadata": {},
     "output_type": "execute_result"
    }
   ],
   "source": [
    "# build in funcions\n",
    "# e.g. operations\n",
    "\n",
    "50 + 10.0"
   ]
  },
  {
   "cell_type": "code",
   "execution_count": 373,
   "metadata": {},
   "outputs": [],
   "source": [
    "# and some Abstract data types like diccionaries:\n",
    "my_catalog = {}\n",
    "my_catalog['apples'] = 10\n",
    "my_catalog['lemon'] = 15"
   ]
  },
  {
   "cell_type": "code",
   "execution_count": 374,
   "metadata": {},
   "outputs": [
    {
     "name": "stdout",
     "output_type": "stream",
     "text": [
      "dict_keys(['apples', 'lemon'])\n"
     ]
    }
   ],
   "source": [
    "# keys\n",
    "print(my_catalog.keys())"
   ]
  },
  {
   "cell_type": "code",
   "execution_count": 375,
   "metadata": {},
   "outputs": [
    {
     "name": "stdout",
     "output_type": "stream",
     "text": [
      "dict_values([10, 15])\n"
     ]
    }
   ],
   "source": [
    "# Values\n",
    "print(my_catalog.values())"
   ]
  },
  {
   "cell_type": "code",
   "execution_count": 376,
   "metadata": {},
   "outputs": [
    {
     "name": "stdout",
     "output_type": "stream",
     "text": [
      "10\n"
     ]
    }
   ],
   "source": [
    "print(my_catalog['apples'])"
   ]
  },
  {
   "cell_type": "markdown",
   "metadata": {},
   "source": [
    "# Data types\n",
    "Mutable or immutable, full article (5 minutes reading)\n",
    "https://medium.com/@meghamohan/mutable-and-immutable-side-of-python-c2145cf72747\n",
    "\n",
    "All in Python are objects: a mutable object can be changed after it is created, and an immutable object can’t.\n",
    "\n",
    "<img src=\"img/1uFlTNY4W3czywyU18zxl8w.png\" width=400 />\n",
    "\n"
   ]
  },
  {
   "cell_type": "markdown",
   "metadata": {},
   "source": [
    "## Practical examples"
   ]
  },
  {
   "cell_type": "code",
   "execution_count": 377,
   "metadata": {},
   "outputs": [],
   "source": [
    "x = 10\n",
    "y = x"
   ]
  },
  {
   "cell_type": "code",
   "execution_count": 378,
   "metadata": {},
   "outputs": [
    {
     "data": {
      "text/plain": [
       "9785152"
      ]
     },
     "execution_count": 378,
     "metadata": {},
     "output_type": "execute_result"
    }
   ],
   "source": [
    "# We are creating an object of type int. identifiers x and y points to the same object.\n",
    "id(x)"
   ]
  },
  {
   "cell_type": "code",
   "execution_count": 379,
   "metadata": {},
   "outputs": [
    {
     "data": {
      "text/plain": [
       "9785152"
      ]
     },
     "execution_count": 379,
     "metadata": {},
     "output_type": "execute_result"
    }
   ],
   "source": [
    "id(y)"
   ]
  },
  {
   "cell_type": "code",
   "execution_count": 380,
   "metadata": {},
   "outputs": [],
   "source": [
    "# if we do a simple operation.\n",
    "x = x + 1"
   ]
  },
  {
   "cell_type": "code",
   "execution_count": 381,
   "metadata": {},
   "outputs": [
    {
     "data": {
      "text/plain": [
       "9785184"
      ]
     },
     "execution_count": 381,
     "metadata": {},
     "output_type": "execute_result"
    }
   ],
   "source": [
    "#Now\n",
    "id(x) "
   ]
  },
  {
   "cell_type": "code",
   "execution_count": 382,
   "metadata": {},
   "outputs": [
    {
     "data": {
      "text/plain": [
       "9785152"
      ]
     },
     "execution_count": 382,
     "metadata": {},
     "output_type": "execute_result"
    }
   ],
   "source": [
    "id(y)"
   ]
  },
  {
   "cell_type": "code",
   "execution_count": 383,
   "metadata": {},
   "outputs": [
    {
     "data": {
      "text/plain": [
       "9785152"
      ]
     },
     "execution_count": 383,
     "metadata": {},
     "output_type": "execute_result"
    }
   ],
   "source": [
    "id(10)"
   ]
  },
  {
   "cell_type": "code",
   "execution_count": 384,
   "metadata": {},
   "outputs": [],
   "source": [
    "#The object in which x was tagged is changed. object 10 was never modified. Immutable objects doesn’t allow modification after creation.\n",
    "#In the case of mutable objects\n",
    "m = list([1, 2, 3])\n",
    "n = m"
   ]
  },
  {
   "cell_type": "code",
   "execution_count": 385,
   "metadata": {},
   "outputs": [
    {
     "data": {
      "text/plain": [
       "139864324015296"
      ]
     },
     "execution_count": 385,
     "metadata": {},
     "output_type": "execute_result"
    }
   ],
   "source": [
    "#We are creating an object of type list. identifiers m and m tagged to the same list object, which is a collection of 3 immutable int objects.\n",
    "id(m)"
   ]
  },
  {
   "cell_type": "code",
   "execution_count": 386,
   "metadata": {},
   "outputs": [
    {
     "data": {
      "text/plain": [
       "139864324015296"
      ]
     },
     "execution_count": 386,
     "metadata": {},
     "output_type": "execute_result"
    }
   ],
   "source": [
    "id(n)"
   ]
  },
  {
   "cell_type": "code",
   "execution_count": 387,
   "metadata": {},
   "outputs": [
    {
     "data": {
      "text/plain": [
       "3"
      ]
     },
     "execution_count": 387,
     "metadata": {},
     "output_type": "execute_result"
    }
   ],
   "source": [
    "#Now poping an item from list object does change the object,\n",
    "m.pop()"
   ]
  },
  {
   "cell_type": "code",
   "execution_count": 388,
   "metadata": {},
   "outputs": [
    {
     "data": {
      "text/plain": [
       "139864324015296"
      ]
     },
     "execution_count": 388,
     "metadata": {},
     "output_type": "execute_result"
    }
   ],
   "source": [
    "#object id will not be changed\n",
    "id(m) "
   ]
  },
  {
   "cell_type": "code",
   "execution_count": 389,
   "metadata": {},
   "outputs": [
    {
     "data": {
      "text/plain": [
       "139864324015296"
      ]
     },
     "execution_count": 389,
     "metadata": {},
     "output_type": "execute_result"
    }
   ],
   "source": [
    "id(n)"
   ]
  },
  {
   "cell_type": "code",
   "execution_count": 390,
   "metadata": {},
   "outputs": [
    {
     "name": "stdout",
     "output_type": "stream",
     "text": [
      "[1, 2]\n"
     ]
    }
   ],
   "source": [
    "print(n)"
   ]
  },
  {
   "cell_type": "code",
   "execution_count": 391,
   "metadata": {},
   "outputs": [
    {
     "name": "stdout",
     "output_type": "stream",
     "text": [
      "[1, 2]\n"
     ]
    }
   ],
   "source": [
    "print(m)"
   ]
  },
  {
   "cell_type": "code",
   "execution_count": 392,
   "metadata": {},
   "outputs": [],
   "source": [
    "k = m.copy()"
   ]
  },
  {
   "cell_type": "code",
   "execution_count": 393,
   "metadata": {},
   "outputs": [
    {
     "name": "stdout",
     "output_type": "stream",
     "text": [
      "[1, 2]\n"
     ]
    }
   ],
   "source": [
    "k.pop()\n",
    "print(m)"
   ]
  },
  {
   "cell_type": "markdown",
   "metadata": {},
   "source": [
    "Becarefull when copy the entire list the new one will use new disk/memory space and could take a lot of time."
   ]
  },
  {
   "cell_type": "markdown",
   "metadata": {},
   "source": [
    "### User defined funcions"
   ]
  },
  {
   "cell_type": "code",
   "execution_count": 394,
   "metadata": {},
   "outputs": [],
   "source": [
    "def my_operation(number):\n",
    "    return number > 10"
   ]
  },
  {
   "cell_type": "markdown",
   "metadata": {},
   "source": [
    "Pay atention to the spaces (usually 4)"
   ]
  },
  {
   "cell_type": "code",
   "execution_count": 395,
   "metadata": {},
   "outputs": [
    {
     "data": {
      "text/plain": [
       "False"
      ]
     },
     "execution_count": 395,
     "metadata": {},
     "output_type": "execute_result"
    }
   ],
   "source": [
    "# Calling it\n",
    "my_operation(1)"
   ]
  },
  {
   "cell_type": "code",
   "execution_count": 396,
   "metadata": {},
   "outputs": [
    {
     "data": {
      "text/plain": [
       "True"
      ]
     },
     "execution_count": 396,
     "metadata": {},
     "output_type": "execute_result"
    }
   ],
   "source": [
    "my_operation(100)"
   ]
  },
  {
   "cell_type": "markdown",
   "metadata": {},
   "source": [
    "## Modules "
   ]
  },
  {
   "cell_type": "markdown",
   "metadata": {},
   "source": [
    "To agrupate methods you can defined modules, also you can install it from comunity repositories."
   ]
  },
  {
   "cell_type": "code",
   "execution_count": 397,
   "metadata": {},
   "outputs": [],
   "source": [
    "import datetime"
   ]
  },
  {
   "cell_type": "code",
   "execution_count": 398,
   "metadata": {},
   "outputs": [],
   "source": [
    "my_datetime = datetime.date(2020,11,10)"
   ]
  },
  {
   "cell_type": "code",
   "execution_count": 399,
   "metadata": {},
   "outputs": [
    {
     "data": {
      "text/plain": [
       "10"
      ]
     },
     "execution_count": 399,
     "metadata": {},
     "output_type": "execute_result"
    }
   ],
   "source": [
    "my_datetime.day"
   ]
  },
  {
   "cell_type": "code",
   "execution_count": 400,
   "metadata": {},
   "outputs": [
    {
     "data": {
      "text/plain": [
       "11"
      ]
     },
     "execution_count": 400,
     "metadata": {},
     "output_type": "execute_result"
    }
   ],
   "source": [
    "my_datetime.month"
   ]
  },
  {
   "cell_type": "code",
   "execution_count": 401,
   "metadata": {},
   "outputs": [],
   "source": [
    "# geting package help\n",
    "datetime.timedelta?"
   ]
  },
  {
   "cell_type": "code",
   "execution_count": 402,
   "metadata": {},
   "outputs": [
    {
     "data": {
      "text/plain": [
       "datetime.date(2020, 2, 29)"
      ]
     },
     "execution_count": 402,
     "metadata": {},
     "output_type": "execute_result"
    }
   ],
   "source": [
    "# you can operate as math operator, the objet datetime will manage automatically it (note 2020 is a leap year)\n",
    "datetime.date(2020,2,28) + datetime.timedelta(days=1)"
   ]
  },
  {
   "cell_type": "markdown",
   "metadata": {},
   "source": [
    "## Virtual environments\n",
    "\n",
    "<img src=\"img/python_environment.png\" width=500 />\n",
    "\n",
    "https://xkcd.com/1987/\n",
    "\n",
    "Be aware the python dependencies could be a nightmare.\n",
    "\n",
    "Virtual environments helps to work in an isolate the packages dependencies and mitigate the dependency problem.\n",
    "the bad sided is that you will duplicated the space used for libraries.\n",
    "\n",
    "### Also and most importan you can track the status and version of your software enviroment, making your experiments reproducibles.\n",
    "\n",
    "\n",
    "I'll create a virtual environment called `iup` (in bash terminal):\n"
   ]
  },
  {
   "cell_type": "markdown",
   "metadata": {},
   "source": [
    "```bash\n",
    "# Ubuntu virtual env intalation\n",
    "sudo apt install virtualenv -y\n",
    "...\n",
    "\n",
    "# A new virtual enviroment called iup is created calling:\n",
    "$ virtualenv iup\n",
    "created virtual environment CPython3.8.5.final.0-64 in 486ms\n",
    "...  \n",
    "```\n"
   ]
  },
  {
   "cell_type": "markdown",
   "metadata": {},
   "source": [
    "```bash\n",
    "# activate virtual env\n",
    "$ source iup/bin/activate\n",
    "(iup) $\n",
    "\n",
    "# deactivate virtual env\n",
    "(iup) $ deactivate\n",
    "$\n",
    "\n",
    "```"
   ]
  },
  {
   "cell_type": "markdown",
   "metadata": {},
   "source": [
    "## PIP\n",
    "The Python Package Installer\n",
    "\n",
    "https://github.com/pypa/pip\n",
    "\n",
    "```bash\n",
    "pip install jupyter\n",
    "```\n",
    "\n",
    "Now you will get accessible `jupyter` in `iup` virtual environment.\n",
    "```bash\n",
    "jupyter notebook\n",
    "```"
   ]
  },
  {
   "cell_type": "markdown",
   "metadata": {},
   "source": [
    "#### Task 1\n",
    "\n",
    "run the following:\n",
    "\n",
    "```bash\n",
    "sudo apt install virtualenv -y\n",
    "virtualenv iup\n",
    "source iup/bin/activate\n",
    "pip install jupyter\n",
    "jupyter notebook\n",
    "```\n",
    "\n",
    "#### You should be able to reproduce the content up to this point."
   ]
  },
  {
   "cell_type": "markdown",
   "metadata": {},
   "source": [
    "<img src=\"img/IPy_header.png\" width=300 align=\"left\"/>\n",
    "<br />\n",
    "\n",
    "\n",
    "# Ipython\n",
    "\n",
    "\n",
    "IPython provides a rich architecture for interactive computing  https://ipython.org/\n",
    "\n",
    "You install and use can use calling:\n",
    "\n",
    "```bash\n",
    "pip install ipython\n",
    "ipython\n",
    "```\n",
    "\n",
    "\n",
    "\n",
    "# python script\n",
    "\n",
    "you can create your hown python scritp file\n",
    "\n",
    "```bash\n",
    "vi hello_world.py\n",
    "\n",
    "```\n",
    "copy and paste the following in the file:\n",
    "\n",
    "```python\n",
    "#!/usr/bin/env python\n",
    "\n",
    "print (\"Hello IUP!\")\n",
    "\n",
    "```\n",
    "and `:` and `x` to save and exit\n",
    "\n",
    "\n",
    "```bash\n",
    "chmod +x hello_world.py  # execution permissions\n",
    "\n",
    "$ ./hello_world.py\n",
    "Hello IUP!\n",
    "```"
   ]
  },
  {
   "cell_type": "markdown",
   "metadata": {},
   "source": [
    "<img src=\"img/1920px-Pandas_logo.svg.png\" width=200 />\n",
    "\n",
    "# Pandas\n",
    "\n",
    "Pandas is a fast, powerful, flexible and easy to use open source data analysis and manipulation tool,\n",
    "built on top of the Python programming language. \n",
    "\n",
    "https://pandas.pydata.org/\n",
    "\n",
    "I'll follow this tutorial:\n",
    "https://nbviewer.jupyter.org/github/justmarkham/pycon-2018-tutorial/blob/master/tutorial.ipynb\n",
    "\n",
    "We need to import the Pandas module, and use an alias: `pd`"
   ]
  },
  {
   "cell_type": "markdown",
   "metadata": {},
   "source": [
    "```python\n",
    "import pandas as pd\n",
    "pd.__version__\n",
    "```"
   ]
  },
  {
   "cell_type": "markdown",
   "metadata": {},
   "source": [
    "```python\n",
    "---------------------------------------------------------------------------\n",
    "ModuleNotFoundError                       Traceback (most recent call last)\n",
    "<ipython-input-53-e4680618b426> in <module>\n",
    "----> 1 import pandas as pd\n",
    "      2 pd.__version__\n",
    "      3 \n",
    "\n",
    "ModuleNotFoundError: No module named 'pandas'\n",
    "```"
   ]
  },
  {
   "cell_type": "markdown",
   "metadata": {},
   "source": [
    "Ups! the module is not installed, let's do it: \n",
    "\n",
    "```\n",
    "(iup) $ pip install pandas\n",
    "```\n",
    "and matplotlib\n",
    "```\n",
    "(iup) $ pip install matplotlib\n",
    "```"
   ]
  },
  {
   "cell_type": "markdown",
   "metadata": {},
   "source": [
    "Now it should work:"
   ]
  },
  {
   "cell_type": "code",
   "execution_count": 403,
   "metadata": {},
   "outputs": [
    {
     "data": {
      "text/plain": [
       "'1.1.4'"
      ]
     },
     "execution_count": 403,
     "metadata": {},
     "output_type": "execute_result"
    }
   ],
   "source": [
    "import pandas as pd\n",
    "pd.__version__"
   ]
  },
  {
   "cell_type": "code",
   "execution_count": 404,
   "metadata": {},
   "outputs": [],
   "source": [
    "import matplotlib.pyplot as plt"
   ]
  },
  {
   "cell_type": "code",
   "execution_count": 405,
   "metadata": {},
   "outputs": [],
   "source": [
    "#only if you use jupyter notebook\n",
    "%matplotlib inline "
   ]
  },
  {
   "cell_type": "code",
   "execution_count": 406,
   "metadata": {},
   "outputs": [],
   "source": [
    "# read the data frame\n",
    "ri = pd.read_csv('ri_statewide_2020_04_01.csv', low_memory=False)"
   ]
  },
  {
   "cell_type": "code",
   "execution_count": 407,
   "metadata": {},
   "outputs": [
    {
     "data": {
      "text/html": [
       "<div>\n",
       "<style scoped>\n",
       "    .dataframe tbody tr th:only-of-type {\n",
       "        vertical-align: middle;\n",
       "    }\n",
       "\n",
       "    .dataframe tbody tr th {\n",
       "        vertical-align: top;\n",
       "    }\n",
       "\n",
       "    .dataframe thead th {\n",
       "        text-align: right;\n",
       "    }\n",
       "</style>\n",
       "<table border=\"1\" class=\"dataframe\">\n",
       "  <thead>\n",
       "    <tr style=\"text-align: right;\">\n",
       "      <th></th>\n",
       "      <th>raw_row_number</th>\n",
       "      <th>date</th>\n",
       "      <th>time</th>\n",
       "      <th>zone</th>\n",
       "      <th>subject_race</th>\n",
       "      <th>subject_sex</th>\n",
       "      <th>department_id</th>\n",
       "      <th>type</th>\n",
       "      <th>arrest_made</th>\n",
       "      <th>citation_issued</th>\n",
       "      <th>...</th>\n",
       "      <th>reason_for_stop</th>\n",
       "      <th>vehicle_make</th>\n",
       "      <th>vehicle_model</th>\n",
       "      <th>raw_BasisForStop</th>\n",
       "      <th>raw_OperatorRace</th>\n",
       "      <th>raw_OperatorSex</th>\n",
       "      <th>raw_ResultOfStop</th>\n",
       "      <th>raw_SearchResultOne</th>\n",
       "      <th>raw_SearchResultTwo</th>\n",
       "      <th>raw_SearchResultThree</th>\n",
       "    </tr>\n",
       "  </thead>\n",
       "  <tbody>\n",
       "    <tr>\n",
       "      <th>0</th>\n",
       "      <td>1</td>\n",
       "      <td>2005-11-22</td>\n",
       "      <td>11:15:00</td>\n",
       "      <td>X3</td>\n",
       "      <td>white</td>\n",
       "      <td>male</td>\n",
       "      <td>200</td>\n",
       "      <td>vehicular</td>\n",
       "      <td>False</td>\n",
       "      <td>True</td>\n",
       "      <td>...</td>\n",
       "      <td>Speeding</td>\n",
       "      <td>NaN</td>\n",
       "      <td>NaN</td>\n",
       "      <td>SP</td>\n",
       "      <td>W</td>\n",
       "      <td>M</td>\n",
       "      <td>M</td>\n",
       "      <td>NaN</td>\n",
       "      <td>NaN</td>\n",
       "      <td>NaN</td>\n",
       "    </tr>\n",
       "    <tr>\n",
       "      <th>1</th>\n",
       "      <td>2</td>\n",
       "      <td>2005-10-01</td>\n",
       "      <td>12:20:00</td>\n",
       "      <td>X3</td>\n",
       "      <td>white</td>\n",
       "      <td>male</td>\n",
       "      <td>200</td>\n",
       "      <td>vehicular</td>\n",
       "      <td>False</td>\n",
       "      <td>True</td>\n",
       "      <td>...</td>\n",
       "      <td>Speeding</td>\n",
       "      <td>NaN</td>\n",
       "      <td>NaN</td>\n",
       "      <td>SP</td>\n",
       "      <td>W</td>\n",
       "      <td>M</td>\n",
       "      <td>M</td>\n",
       "      <td>NaN</td>\n",
       "      <td>NaN</td>\n",
       "      <td>NaN</td>\n",
       "    </tr>\n",
       "    <tr>\n",
       "      <th>2</th>\n",
       "      <td>3</td>\n",
       "      <td>2005-10-01</td>\n",
       "      <td>12:30:00</td>\n",
       "      <td>X3</td>\n",
       "      <td>white</td>\n",
       "      <td>female</td>\n",
       "      <td>200</td>\n",
       "      <td>vehicular</td>\n",
       "      <td>False</td>\n",
       "      <td>True</td>\n",
       "      <td>...</td>\n",
       "      <td>Speeding</td>\n",
       "      <td>NaN</td>\n",
       "      <td>NaN</td>\n",
       "      <td>SP</td>\n",
       "      <td>W</td>\n",
       "      <td>F</td>\n",
       "      <td>M</td>\n",
       "      <td>NaN</td>\n",
       "      <td>NaN</td>\n",
       "      <td>NaN</td>\n",
       "    </tr>\n",
       "    <tr>\n",
       "      <th>3</th>\n",
       "      <td>4</td>\n",
       "      <td>2005-10-01</td>\n",
       "      <td>12:50:00</td>\n",
       "      <td>X3</td>\n",
       "      <td>white</td>\n",
       "      <td>male</td>\n",
       "      <td>200</td>\n",
       "      <td>vehicular</td>\n",
       "      <td>False</td>\n",
       "      <td>True</td>\n",
       "      <td>...</td>\n",
       "      <td>Speeding</td>\n",
       "      <td>NaN</td>\n",
       "      <td>NaN</td>\n",
       "      <td>SP</td>\n",
       "      <td>W</td>\n",
       "      <td>M</td>\n",
       "      <td>M</td>\n",
       "      <td>NaN</td>\n",
       "      <td>NaN</td>\n",
       "      <td>NaN</td>\n",
       "    </tr>\n",
       "    <tr>\n",
       "      <th>4</th>\n",
       "      <td>5</td>\n",
       "      <td>2005-10-01</td>\n",
       "      <td>13:10:00</td>\n",
       "      <td>X3</td>\n",
       "      <td>white</td>\n",
       "      <td>female</td>\n",
       "      <td>200</td>\n",
       "      <td>vehicular</td>\n",
       "      <td>False</td>\n",
       "      <td>True</td>\n",
       "      <td>...</td>\n",
       "      <td>Speeding</td>\n",
       "      <td>NaN</td>\n",
       "      <td>NaN</td>\n",
       "      <td>SP</td>\n",
       "      <td>W</td>\n",
       "      <td>F</td>\n",
       "      <td>M</td>\n",
       "      <td>NaN</td>\n",
       "      <td>NaN</td>\n",
       "      <td>NaN</td>\n",
       "    </tr>\n",
       "  </tbody>\n",
       "</table>\n",
       "<p>5 rows × 31 columns</p>\n",
       "</div>"
      ],
      "text/plain": [
       "   raw_row_number        date      time zone subject_race subject_sex  \\\n",
       "0               1  2005-11-22  11:15:00   X3        white        male   \n",
       "1               2  2005-10-01  12:20:00   X3        white        male   \n",
       "2               3  2005-10-01  12:30:00   X3        white      female   \n",
       "3               4  2005-10-01  12:50:00   X3        white        male   \n",
       "4               5  2005-10-01  13:10:00   X3        white      female   \n",
       "\n",
       "  department_id       type arrest_made citation_issued  ... reason_for_stop  \\\n",
       "0           200  vehicular       False            True  ...        Speeding   \n",
       "1           200  vehicular       False            True  ...        Speeding   \n",
       "2           200  vehicular       False            True  ...        Speeding   \n",
       "3           200  vehicular       False            True  ...        Speeding   \n",
       "4           200  vehicular       False            True  ...        Speeding   \n",
       "\n",
       "  vehicle_make vehicle_model raw_BasisForStop raw_OperatorRace  \\\n",
       "0          NaN           NaN               SP                W   \n",
       "1          NaN           NaN               SP                W   \n",
       "2          NaN           NaN               SP                W   \n",
       "3          NaN           NaN               SP                W   \n",
       "4          NaN           NaN               SP                W   \n",
       "\n",
       "  raw_OperatorSex raw_ResultOfStop raw_SearchResultOne  raw_SearchResultTwo  \\\n",
       "0               M                M                 NaN                  NaN   \n",
       "1               M                M                 NaN                  NaN   \n",
       "2               F                M                 NaN                  NaN   \n",
       "3               M                M                 NaN                  NaN   \n",
       "4               F                M                 NaN                  NaN   \n",
       "\n",
       "  raw_SearchResultThree  \n",
       "0                   NaN  \n",
       "1                   NaN  \n",
       "2                   NaN  \n",
       "3                   NaN  \n",
       "4                   NaN  \n",
       "\n",
       "[5 rows x 31 columns]"
      ]
     },
     "execution_count": 407,
     "metadata": {},
     "output_type": "execute_result"
    }
   ],
   "source": [
    "ri.head()"
   ]
  },
  {
   "cell_type": "code",
   "execution_count": null,
   "metadata": {},
   "outputs": [],
   "source": []
  },
  {
   "cell_type": "code",
   "execution_count": 408,
   "metadata": {},
   "outputs": [
    {
     "data": {
      "text/html": [
       "<div>\n",
       "<style scoped>\n",
       "    .dataframe tbody tr th:only-of-type {\n",
       "        vertical-align: middle;\n",
       "    }\n",
       "\n",
       "    .dataframe tbody tr th {\n",
       "        vertical-align: top;\n",
       "    }\n",
       "\n",
       "    .dataframe thead th {\n",
       "        text-align: right;\n",
       "    }\n",
       "</style>\n",
       "<table border=\"1\" class=\"dataframe\">\n",
       "  <thead>\n",
       "    <tr style=\"text-align: right;\">\n",
       "      <th></th>\n",
       "      <th>raw_row_number</th>\n",
       "      <th>date</th>\n",
       "      <th>time</th>\n",
       "      <th>zone</th>\n",
       "      <th>subject_race</th>\n",
       "      <th>subject_sex</th>\n",
       "      <th>department_id</th>\n",
       "      <th>type</th>\n",
       "      <th>arrest_made</th>\n",
       "      <th>citation_issued</th>\n",
       "      <th>...</th>\n",
       "      <th>reason_for_stop</th>\n",
       "      <th>vehicle_make</th>\n",
       "      <th>vehicle_model</th>\n",
       "      <th>raw_BasisForStop</th>\n",
       "      <th>raw_OperatorRace</th>\n",
       "      <th>raw_OperatorSex</th>\n",
       "      <th>raw_ResultOfStop</th>\n",
       "      <th>raw_SearchResultOne</th>\n",
       "      <th>raw_SearchResultTwo</th>\n",
       "      <th>raw_SearchResultThree</th>\n",
       "    </tr>\n",
       "  </thead>\n",
       "  <tbody>\n",
       "    <tr>\n",
       "      <th>0</th>\n",
       "      <td>1</td>\n",
       "      <td>2005-11-22</td>\n",
       "      <td>11:15:00</td>\n",
       "      <td>X3</td>\n",
       "      <td>white</td>\n",
       "      <td>male</td>\n",
       "      <td>200</td>\n",
       "      <td>vehicular</td>\n",
       "      <td>False</td>\n",
       "      <td>True</td>\n",
       "      <td>...</td>\n",
       "      <td>Speeding</td>\n",
       "      <td>NaN</td>\n",
       "      <td>NaN</td>\n",
       "      <td>SP</td>\n",
       "      <td>W</td>\n",
       "      <td>M</td>\n",
       "      <td>M</td>\n",
       "      <td>NaN</td>\n",
       "      <td>NaN</td>\n",
       "      <td>NaN</td>\n",
       "    </tr>\n",
       "    <tr>\n",
       "      <th>1</th>\n",
       "      <td>2</td>\n",
       "      <td>2005-10-01</td>\n",
       "      <td>12:20:00</td>\n",
       "      <td>X3</td>\n",
       "      <td>white</td>\n",
       "      <td>male</td>\n",
       "      <td>200</td>\n",
       "      <td>vehicular</td>\n",
       "      <td>False</td>\n",
       "      <td>True</td>\n",
       "      <td>...</td>\n",
       "      <td>Speeding</td>\n",
       "      <td>NaN</td>\n",
       "      <td>NaN</td>\n",
       "      <td>SP</td>\n",
       "      <td>W</td>\n",
       "      <td>M</td>\n",
       "      <td>M</td>\n",
       "      <td>NaN</td>\n",
       "      <td>NaN</td>\n",
       "      <td>NaN</td>\n",
       "    </tr>\n",
       "    <tr>\n",
       "      <th>2</th>\n",
       "      <td>3</td>\n",
       "      <td>2005-10-01</td>\n",
       "      <td>12:30:00</td>\n",
       "      <td>X3</td>\n",
       "      <td>white</td>\n",
       "      <td>female</td>\n",
       "      <td>200</td>\n",
       "      <td>vehicular</td>\n",
       "      <td>False</td>\n",
       "      <td>True</td>\n",
       "      <td>...</td>\n",
       "      <td>Speeding</td>\n",
       "      <td>NaN</td>\n",
       "      <td>NaN</td>\n",
       "      <td>SP</td>\n",
       "      <td>W</td>\n",
       "      <td>F</td>\n",
       "      <td>M</td>\n",
       "      <td>NaN</td>\n",
       "      <td>NaN</td>\n",
       "      <td>NaN</td>\n",
       "    </tr>\n",
       "    <tr>\n",
       "      <th>3</th>\n",
       "      <td>4</td>\n",
       "      <td>2005-10-01</td>\n",
       "      <td>12:50:00</td>\n",
       "      <td>X3</td>\n",
       "      <td>white</td>\n",
       "      <td>male</td>\n",
       "      <td>200</td>\n",
       "      <td>vehicular</td>\n",
       "      <td>False</td>\n",
       "      <td>True</td>\n",
       "      <td>...</td>\n",
       "      <td>Speeding</td>\n",
       "      <td>NaN</td>\n",
       "      <td>NaN</td>\n",
       "      <td>SP</td>\n",
       "      <td>W</td>\n",
       "      <td>M</td>\n",
       "      <td>M</td>\n",
       "      <td>NaN</td>\n",
       "      <td>NaN</td>\n",
       "      <td>NaN</td>\n",
       "    </tr>\n",
       "    <tr>\n",
       "      <th>4</th>\n",
       "      <td>5</td>\n",
       "      <td>2005-10-01</td>\n",
       "      <td>13:10:00</td>\n",
       "      <td>X3</td>\n",
       "      <td>white</td>\n",
       "      <td>female</td>\n",
       "      <td>200</td>\n",
       "      <td>vehicular</td>\n",
       "      <td>False</td>\n",
       "      <td>True</td>\n",
       "      <td>...</td>\n",
       "      <td>Speeding</td>\n",
       "      <td>NaN</td>\n",
       "      <td>NaN</td>\n",
       "      <td>SP</td>\n",
       "      <td>W</td>\n",
       "      <td>F</td>\n",
       "      <td>M</td>\n",
       "      <td>NaN</td>\n",
       "      <td>NaN</td>\n",
       "      <td>NaN</td>\n",
       "    </tr>\n",
       "  </tbody>\n",
       "</table>\n",
       "<p>5 rows × 31 columns</p>\n",
       "</div>"
      ],
      "text/plain": [
       "   raw_row_number        date      time zone subject_race subject_sex  \\\n",
       "0               1  2005-11-22  11:15:00   X3        white        male   \n",
       "1               2  2005-10-01  12:20:00   X3        white        male   \n",
       "2               3  2005-10-01  12:30:00   X3        white      female   \n",
       "3               4  2005-10-01  12:50:00   X3        white        male   \n",
       "4               5  2005-10-01  13:10:00   X3        white      female   \n",
       "\n",
       "  department_id       type arrest_made citation_issued  ... reason_for_stop  \\\n",
       "0           200  vehicular       False            True  ...        Speeding   \n",
       "1           200  vehicular       False            True  ...        Speeding   \n",
       "2           200  vehicular       False            True  ...        Speeding   \n",
       "3           200  vehicular       False            True  ...        Speeding   \n",
       "4           200  vehicular       False            True  ...        Speeding   \n",
       "\n",
       "  vehicle_make vehicle_model raw_BasisForStop raw_OperatorRace  \\\n",
       "0          NaN           NaN               SP                W   \n",
       "1          NaN           NaN               SP                W   \n",
       "2          NaN           NaN               SP                W   \n",
       "3          NaN           NaN               SP                W   \n",
       "4          NaN           NaN               SP                W   \n",
       "\n",
       "  raw_OperatorSex raw_ResultOfStop raw_SearchResultOne  raw_SearchResultTwo  \\\n",
       "0               M                M                 NaN                  NaN   \n",
       "1               M                M                 NaN                  NaN   \n",
       "2               F                M                 NaN                  NaN   \n",
       "3               M                M                 NaN                  NaN   \n",
       "4               F                M                 NaN                  NaN   \n",
       "\n",
       "  raw_SearchResultThree  \n",
       "0                   NaN  \n",
       "1                   NaN  \n",
       "2                   NaN  \n",
       "3                   NaN  \n",
       "4                   NaN  \n",
       "\n",
       "[5 rows x 31 columns]"
      ]
     },
     "execution_count": 408,
     "metadata": {},
     "output_type": "execute_result"
    }
   ],
   "source": [
    "ri.head()  # head() is a method from ri object "
   ]
  },
  {
   "cell_type": "code",
   "execution_count": 409,
   "metadata": {},
   "outputs": [
    {
     "data": {
      "text/plain": [
       "(509681, 31)"
      ]
     },
     "execution_count": 409,
     "metadata": {},
     "output_type": "execute_result"
    }
   ],
   "source": [
    "ri.shape  #shape is a value of ri object"
   ]
  },
  {
   "cell_type": "markdown",
   "metadata": {},
   "source": [
    "1. what do these numbers mean?\n",
    "1. What does NaN mean?\n",
    "1. Why might a value be missing?\n",
    "1. Why mark it as NaN? \n",
    "1. Why not mark it as a 0 or an empty string or a string saying \"Unknown\"?\n",
    "\n",
    "\n",
    "`NaN` = Missing value, data corruption, irrelevant data related with the other column, etc.\n"
   ]
  },
  {
   "cell_type": "code",
   "execution_count": 410,
   "metadata": {},
   "outputs": [
    {
     "data": {
      "text/plain": [
       "raw_row_number            int64\n",
       "date                     object\n",
       "time                     object\n",
       "zone                     object\n",
       "subject_race             object\n",
       "subject_sex              object\n",
       "department_id            object\n",
       "type                     object\n",
       "arrest_made              object\n",
       "citation_issued          object\n",
       "warning_issued           object\n",
       "outcome                  object\n",
       "contraband_found         object\n",
       "contraband_drugs         object\n",
       "contraband_weapons       object\n",
       "contraband_alcohol       object\n",
       "contraband_other         object\n",
       "frisk_performed          object\n",
       "search_conducted           bool\n",
       "search_basis             object\n",
       "reason_for_search        object\n",
       "reason_for_stop          object\n",
       "vehicle_make             object\n",
       "vehicle_model            object\n",
       "raw_BasisForStop         object\n",
       "raw_OperatorRace         object\n",
       "raw_OperatorSex          object\n",
       "raw_ResultOfStop         object\n",
       "raw_SearchResultOne      object\n",
       "raw_SearchResultTwo      object\n",
       "raw_SearchResultThree    object\n",
       "dtype: object"
      ]
     },
     "execution_count": 410,
     "metadata": {},
     "output_type": "execute_result"
    }
   ],
   "source": [
    "ri.dtypes"
   ]
  },
  {
   "cell_type": "code",
   "execution_count": 411,
   "metadata": {},
   "outputs": [
    {
     "data": {
      "text/plain": [
       "raw_row_number                0\n",
       "date                         10\n",
       "time                         10\n",
       "zone                         10\n",
       "subject_race              29073\n",
       "subject_sex               29097\n",
       "department_id                10\n",
       "type                          0\n",
       "arrest_made               29073\n",
       "citation_issued           29073\n",
       "warning_issued            29073\n",
       "outcome                   35841\n",
       "contraband_found         491919\n",
       "contraband_drugs         493693\n",
       "contraband_weapons       497886\n",
       "contraband_alcohol       508464\n",
       "contraband_other         491919\n",
       "frisk_performed              10\n",
       "search_conducted              0\n",
       "search_basis             491919\n",
       "reason_for_search        491919\n",
       "reason_for_stop           29073\n",
       "vehicle_make             191564\n",
       "vehicle_model            279593\n",
       "raw_BasisForStop          29073\n",
       "raw_OperatorRace          29073\n",
       "raw_OperatorSex           29073\n",
       "raw_ResultOfStop          29073\n",
       "raw_SearchResultOne      491919\n",
       "raw_SearchResultTwo      508862\n",
       "raw_SearchResultThree    509513\n",
       "dtype: int64"
      ]
     },
     "execution_count": 411,
     "metadata": {},
     "output_type": "execute_result"
    }
   ],
   "source": [
    "# what are these counts? how does this work?\n",
    "ri.isnull().sum()"
   ]
  },
  {
   "cell_type": "markdown",
   "metadata": {},
   "source": [
    "`contraband_found`, `search_basis` and `reason_for_search`, all values missing (see ri.shape before)"
   ]
  },
  {
   "cell_type": "markdown",
   "metadata": {},
   "source": [
    "## when someone is stopped for speeding, how often is it a man or woman?\n",
    "\n",
    "Let's ask this to the dataframe... step by step"
   ]
  },
  {
   "cell_type": "code",
   "execution_count": 412,
   "metadata": {},
   "outputs": [
    {
     "data": {
      "text/plain": [
       "0          True\n",
       "1          True\n",
       "2          True\n",
       "3          True\n",
       "4          True\n",
       "          ...  \n",
       "509676    False\n",
       "509677     True\n",
       "509678    False\n",
       "509679     True\n",
       "509680    False\n",
       "Name: reason_for_stop, Length: 509681, dtype: bool"
      ]
     },
     "execution_count": 412,
     "metadata": {},
     "output_type": "execute_result"
    }
   ],
   "source": [
    "# Get a mask:\n",
    "ri.reason_for_stop == 'Speeding'"
   ]
  },
  {
   "cell_type": "code",
   "execution_count": 413,
   "metadata": {},
   "outputs": [
    {
     "data": {
      "text/html": [
       "<div>\n",
       "<style scoped>\n",
       "    .dataframe tbody tr th:only-of-type {\n",
       "        vertical-align: middle;\n",
       "    }\n",
       "\n",
       "    .dataframe tbody tr th {\n",
       "        vertical-align: top;\n",
       "    }\n",
       "\n",
       "    .dataframe thead th {\n",
       "        text-align: right;\n",
       "    }\n",
       "</style>\n",
       "<table border=\"1\" class=\"dataframe\">\n",
       "  <thead>\n",
       "    <tr style=\"text-align: right;\">\n",
       "      <th></th>\n",
       "      <th>raw_row_number</th>\n",
       "      <th>date</th>\n",
       "      <th>time</th>\n",
       "      <th>zone</th>\n",
       "      <th>subject_race</th>\n",
       "      <th>subject_sex</th>\n",
       "      <th>department_id</th>\n",
       "      <th>type</th>\n",
       "      <th>arrest_made</th>\n",
       "      <th>citation_issued</th>\n",
       "      <th>...</th>\n",
       "      <th>reason_for_stop</th>\n",
       "      <th>vehicle_make</th>\n",
       "      <th>vehicle_model</th>\n",
       "      <th>raw_BasisForStop</th>\n",
       "      <th>raw_OperatorRace</th>\n",
       "      <th>raw_OperatorSex</th>\n",
       "      <th>raw_ResultOfStop</th>\n",
       "      <th>raw_SearchResultOne</th>\n",
       "      <th>raw_SearchResultTwo</th>\n",
       "      <th>raw_SearchResultThree</th>\n",
       "    </tr>\n",
       "  </thead>\n",
       "  <tbody>\n",
       "    <tr>\n",
       "      <th>0</th>\n",
       "      <td>1</td>\n",
       "      <td>2005-11-22</td>\n",
       "      <td>11:15:00</td>\n",
       "      <td>X3</td>\n",
       "      <td>white</td>\n",
       "      <td>male</td>\n",
       "      <td>200</td>\n",
       "      <td>vehicular</td>\n",
       "      <td>False</td>\n",
       "      <td>True</td>\n",
       "      <td>...</td>\n",
       "      <td>Speeding</td>\n",
       "      <td>NaN</td>\n",
       "      <td>NaN</td>\n",
       "      <td>SP</td>\n",
       "      <td>W</td>\n",
       "      <td>M</td>\n",
       "      <td>M</td>\n",
       "      <td>NaN</td>\n",
       "      <td>NaN</td>\n",
       "      <td>NaN</td>\n",
       "    </tr>\n",
       "    <tr>\n",
       "      <th>1</th>\n",
       "      <td>2</td>\n",
       "      <td>2005-10-01</td>\n",
       "      <td>12:20:00</td>\n",
       "      <td>X3</td>\n",
       "      <td>white</td>\n",
       "      <td>male</td>\n",
       "      <td>200</td>\n",
       "      <td>vehicular</td>\n",
       "      <td>False</td>\n",
       "      <td>True</td>\n",
       "      <td>...</td>\n",
       "      <td>Speeding</td>\n",
       "      <td>NaN</td>\n",
       "      <td>NaN</td>\n",
       "      <td>SP</td>\n",
       "      <td>W</td>\n",
       "      <td>M</td>\n",
       "      <td>M</td>\n",
       "      <td>NaN</td>\n",
       "      <td>NaN</td>\n",
       "      <td>NaN</td>\n",
       "    </tr>\n",
       "    <tr>\n",
       "      <th>2</th>\n",
       "      <td>3</td>\n",
       "      <td>2005-10-01</td>\n",
       "      <td>12:30:00</td>\n",
       "      <td>X3</td>\n",
       "      <td>white</td>\n",
       "      <td>female</td>\n",
       "      <td>200</td>\n",
       "      <td>vehicular</td>\n",
       "      <td>False</td>\n",
       "      <td>True</td>\n",
       "      <td>...</td>\n",
       "      <td>Speeding</td>\n",
       "      <td>NaN</td>\n",
       "      <td>NaN</td>\n",
       "      <td>SP</td>\n",
       "      <td>W</td>\n",
       "      <td>F</td>\n",
       "      <td>M</td>\n",
       "      <td>NaN</td>\n",
       "      <td>NaN</td>\n",
       "      <td>NaN</td>\n",
       "    </tr>\n",
       "    <tr>\n",
       "      <th>3</th>\n",
       "      <td>4</td>\n",
       "      <td>2005-10-01</td>\n",
       "      <td>12:50:00</td>\n",
       "      <td>X3</td>\n",
       "      <td>white</td>\n",
       "      <td>male</td>\n",
       "      <td>200</td>\n",
       "      <td>vehicular</td>\n",
       "      <td>False</td>\n",
       "      <td>True</td>\n",
       "      <td>...</td>\n",
       "      <td>Speeding</td>\n",
       "      <td>NaN</td>\n",
       "      <td>NaN</td>\n",
       "      <td>SP</td>\n",
       "      <td>W</td>\n",
       "      <td>M</td>\n",
       "      <td>M</td>\n",
       "      <td>NaN</td>\n",
       "      <td>NaN</td>\n",
       "      <td>NaN</td>\n",
       "    </tr>\n",
       "    <tr>\n",
       "      <th>4</th>\n",
       "      <td>5</td>\n",
       "      <td>2005-10-01</td>\n",
       "      <td>13:10:00</td>\n",
       "      <td>X3</td>\n",
       "      <td>white</td>\n",
       "      <td>female</td>\n",
       "      <td>200</td>\n",
       "      <td>vehicular</td>\n",
       "      <td>False</td>\n",
       "      <td>True</td>\n",
       "      <td>...</td>\n",
       "      <td>Speeding</td>\n",
       "      <td>NaN</td>\n",
       "      <td>NaN</td>\n",
       "      <td>SP</td>\n",
       "      <td>W</td>\n",
       "      <td>F</td>\n",
       "      <td>M</td>\n",
       "      <td>NaN</td>\n",
       "      <td>NaN</td>\n",
       "      <td>NaN</td>\n",
       "    </tr>\n",
       "    <tr>\n",
       "      <th>...</th>\n",
       "      <td>...</td>\n",
       "      <td>...</td>\n",
       "      <td>...</td>\n",
       "      <td>...</td>\n",
       "      <td>...</td>\n",
       "      <td>...</td>\n",
       "      <td>...</td>\n",
       "      <td>...</td>\n",
       "      <td>...</td>\n",
       "      <td>...</td>\n",
       "      <td>...</td>\n",
       "      <td>...</td>\n",
       "      <td>...</td>\n",
       "      <td>...</td>\n",
       "      <td>...</td>\n",
       "      <td>...</td>\n",
       "      <td>...</td>\n",
       "      <td>...</td>\n",
       "      <td>...</td>\n",
       "      <td>...</td>\n",
       "      <td>...</td>\n",
       "    </tr>\n",
       "    <tr>\n",
       "      <th>509670</th>\n",
       "      <td>509671</td>\n",
       "      <td>2015-12-27</td>\n",
       "      <td>12:45:00</td>\n",
       "      <td>X4</td>\n",
       "      <td>white</td>\n",
       "      <td>male</td>\n",
       "      <td>500</td>\n",
       "      <td>vehicular</td>\n",
       "      <td>False</td>\n",
       "      <td>True</td>\n",
       "      <td>...</td>\n",
       "      <td>Speeding</td>\n",
       "      <td>HOND</td>\n",
       "      <td>ACCORD</td>\n",
       "      <td>SP</td>\n",
       "      <td>W</td>\n",
       "      <td>M</td>\n",
       "      <td>M</td>\n",
       "      <td>NaN</td>\n",
       "      <td>NaN</td>\n",
       "      <td>NaN</td>\n",
       "    </tr>\n",
       "    <tr>\n",
       "      <th>509671</th>\n",
       "      <td>509672</td>\n",
       "      <td>2015-12-27</td>\n",
       "      <td>13:43:00</td>\n",
       "      <td>X4</td>\n",
       "      <td>white</td>\n",
       "      <td>male</td>\n",
       "      <td>500</td>\n",
       "      <td>vehicular</td>\n",
       "      <td>False</td>\n",
       "      <td>True</td>\n",
       "      <td>...</td>\n",
       "      <td>Speeding</td>\n",
       "      <td>ACUR</td>\n",
       "      <td>TSX</td>\n",
       "      <td>SP</td>\n",
       "      <td>W</td>\n",
       "      <td>M</td>\n",
       "      <td>M</td>\n",
       "      <td>NaN</td>\n",
       "      <td>NaN</td>\n",
       "      <td>NaN</td>\n",
       "    </tr>\n",
       "    <tr>\n",
       "      <th>509672</th>\n",
       "      <td>509673</td>\n",
       "      <td>2015-12-28</td>\n",
       "      <td>02:29:00</td>\n",
       "      <td>K2</td>\n",
       "      <td>white</td>\n",
       "      <td>male</td>\n",
       "      <td>900</td>\n",
       "      <td>vehicular</td>\n",
       "      <td>False</td>\n",
       "      <td>True</td>\n",
       "      <td>...</td>\n",
       "      <td>Speeding</td>\n",
       "      <td>TOYT</td>\n",
       "      <td>COROLL</td>\n",
       "      <td>SP</td>\n",
       "      <td>W</td>\n",
       "      <td>M</td>\n",
       "      <td>M</td>\n",
       "      <td>NaN</td>\n",
       "      <td>NaN</td>\n",
       "      <td>NaN</td>\n",
       "    </tr>\n",
       "    <tr>\n",
       "      <th>509677</th>\n",
       "      <td>509678</td>\n",
       "      <td>2015-12-20</td>\n",
       "      <td>11:17:00</td>\n",
       "      <td>K3</td>\n",
       "      <td>white</td>\n",
       "      <td>female</td>\n",
       "      <td>300</td>\n",
       "      <td>vehicular</td>\n",
       "      <td>False</td>\n",
       "      <td>True</td>\n",
       "      <td>...</td>\n",
       "      <td>Speeding</td>\n",
       "      <td>NaN</td>\n",
       "      <td>NaN</td>\n",
       "      <td>SP</td>\n",
       "      <td>W</td>\n",
       "      <td>F</td>\n",
       "      <td>M</td>\n",
       "      <td>NaN</td>\n",
       "      <td>NaN</td>\n",
       "      <td>NaN</td>\n",
       "    </tr>\n",
       "    <tr>\n",
       "      <th>509679</th>\n",
       "      <td>509680</td>\n",
       "      <td>2015-10-30</td>\n",
       "      <td>11:09:00</td>\n",
       "      <td>X4</td>\n",
       "      <td>white</td>\n",
       "      <td>female</td>\n",
       "      <td>500</td>\n",
       "      <td>vehicular</td>\n",
       "      <td>False</td>\n",
       "      <td>True</td>\n",
       "      <td>...</td>\n",
       "      <td>Speeding</td>\n",
       "      <td>VOLK</td>\n",
       "      <td>BUG</td>\n",
       "      <td>SP</td>\n",
       "      <td>W</td>\n",
       "      <td>F</td>\n",
       "      <td>M</td>\n",
       "      <td>NaN</td>\n",
       "      <td>NaN</td>\n",
       "      <td>NaN</td>\n",
       "    </tr>\n",
       "  </tbody>\n",
       "</table>\n",
       "<p>268744 rows × 31 columns</p>\n",
       "</div>"
      ],
      "text/plain": [
       "        raw_row_number        date      time zone subject_race subject_sex  \\\n",
       "0                    1  2005-11-22  11:15:00   X3        white        male   \n",
       "1                    2  2005-10-01  12:20:00   X3        white        male   \n",
       "2                    3  2005-10-01  12:30:00   X3        white      female   \n",
       "3                    4  2005-10-01  12:50:00   X3        white        male   \n",
       "4                    5  2005-10-01  13:10:00   X3        white      female   \n",
       "...                ...         ...       ...  ...          ...         ...   \n",
       "509670          509671  2015-12-27  12:45:00   X4        white        male   \n",
       "509671          509672  2015-12-27  13:43:00   X4        white        male   \n",
       "509672          509673  2015-12-28  02:29:00   K2        white        male   \n",
       "509677          509678  2015-12-20  11:17:00   K3        white      female   \n",
       "509679          509680  2015-10-30  11:09:00   X4        white      female   \n",
       "\n",
       "       department_id       type arrest_made citation_issued  ...  \\\n",
       "0                200  vehicular       False            True  ...   \n",
       "1                200  vehicular       False            True  ...   \n",
       "2                200  vehicular       False            True  ...   \n",
       "3                200  vehicular       False            True  ...   \n",
       "4                200  vehicular       False            True  ...   \n",
       "...              ...        ...         ...             ...  ...   \n",
       "509670           500  vehicular       False            True  ...   \n",
       "509671           500  vehicular       False            True  ...   \n",
       "509672           900  vehicular       False            True  ...   \n",
       "509677           300  vehicular       False            True  ...   \n",
       "509679           500  vehicular       False            True  ...   \n",
       "\n",
       "       reason_for_stop vehicle_make vehicle_model raw_BasisForStop  \\\n",
       "0             Speeding          NaN           NaN               SP   \n",
       "1             Speeding          NaN           NaN               SP   \n",
       "2             Speeding          NaN           NaN               SP   \n",
       "3             Speeding          NaN           NaN               SP   \n",
       "4             Speeding          NaN           NaN               SP   \n",
       "...                ...          ...           ...              ...   \n",
       "509670        Speeding         HOND        ACCORD               SP   \n",
       "509671        Speeding         ACUR           TSX               SP   \n",
       "509672        Speeding         TOYT        COROLL               SP   \n",
       "509677        Speeding          NaN           NaN               SP   \n",
       "509679        Speeding         VOLK           BUG               SP   \n",
       "\n",
       "       raw_OperatorRace raw_OperatorSex raw_ResultOfStop raw_SearchResultOne  \\\n",
       "0                     W               M                M                 NaN   \n",
       "1                     W               M                M                 NaN   \n",
       "2                     W               F                M                 NaN   \n",
       "3                     W               M                M                 NaN   \n",
       "4                     W               F                M                 NaN   \n",
       "...                 ...             ...              ...                 ...   \n",
       "509670                W               M                M                 NaN   \n",
       "509671                W               M                M                 NaN   \n",
       "509672                W               M                M                 NaN   \n",
       "509677                W               F                M                 NaN   \n",
       "509679                W               F                M                 NaN   \n",
       "\n",
       "        raw_SearchResultTwo raw_SearchResultThree  \n",
       "0                       NaN                   NaN  \n",
       "1                       NaN                   NaN  \n",
       "2                       NaN                   NaN  \n",
       "3                       NaN                   NaN  \n",
       "4                       NaN                   NaN  \n",
       "...                     ...                   ...  \n",
       "509670                  NaN                   NaN  \n",
       "509671                  NaN                   NaN  \n",
       "509672                  NaN                   NaN  \n",
       "509677                  NaN                   NaN  \n",
       "509679                  NaN                   NaN  \n",
       "\n",
       "[268744 rows x 31 columns]"
      ]
     },
     "execution_count": 413,
     "metadata": {},
     "output_type": "execute_result"
    }
   ],
   "source": [
    "# apply over the data frame\n",
    "ri[ri.reason_for_stop == 'Speeding']"
   ]
  },
  {
   "cell_type": "markdown",
   "metadata": {},
   "source": [
    "see the collumn `reason_for_stop`"
   ]
  },
  {
   "cell_type": "code",
   "execution_count": 414,
   "metadata": {},
   "outputs": [
    {
     "data": {
      "text/plain": [
       "0           male\n",
       "1           male\n",
       "2         female\n",
       "3           male\n",
       "4         female\n",
       "           ...  \n",
       "509670      male\n",
       "509671      male\n",
       "509672      male\n",
       "509677    female\n",
       "509679    female\n",
       "Name: subject_sex, Length: 268744, dtype: object"
      ]
     },
     "execution_count": 414,
     "metadata": {},
     "output_type": "execute_result"
    }
   ],
   "source": [
    "# get only the subject_sex collumn\n",
    "ri[ri.reason_for_stop == 'Speeding'].subject_sex"
   ]
  },
  {
   "cell_type": "code",
   "execution_count": 415,
   "metadata": {},
   "outputs": [
    {
     "data": {
      "text/plain": [
       "male      182538\n",
       "female     86198\n",
       "Name: subject_sex, dtype: int64"
      ]
     },
     "execution_count": 415,
     "metadata": {},
     "output_type": "execute_result"
    }
   ],
   "source": [
    "# count the values\n",
    "ri[ri.reason_for_stop == 'Speeding'].subject_sex.value_counts()"
   ]
  },
  {
   "cell_type": "code",
   "execution_count": 416,
   "metadata": {},
   "outputs": [
    {
     "data": {
      "text/plain": [
       "male      0.679247\n",
       "female    0.320753\n",
       "Name: subject_sex, dtype: float64"
      ]
     },
     "execution_count": 416,
     "metadata": {},
     "output_type": "execute_result"
    }
   ],
   "source": [
    "# normalize it (give a value between 0 and 1)\n",
    "ri[ri.reason_for_stop == 'Speeding'].subject_sex.value_counts(normalize=True)"
   ]
  },
  {
   "cell_type": "code",
   "execution_count": 417,
   "metadata": {},
   "outputs": [
    {
     "data": {
      "text/plain": [
       "Speeding                            0.522364\n",
       "Other Traffic Violation             0.206948\n",
       "Equipment/Inspection Violation      0.135102\n",
       "Registration Violation              0.040581\n",
       "Special Detail/Directed Patrol      0.037136\n",
       "Seatbelt Violation                  0.036555\n",
       "Call for Service                    0.014987\n",
       "Violation of City/Town Ordinance    0.002347\n",
       "Motorist Assist/Courtesy            0.001880\n",
       "APB                                 0.001076\n",
       "Suspicious Person                   0.000767\n",
       "Warrant                             0.000258\n",
       "Name: reason_for_stop, dtype: float64"
      ]
     },
     "execution_count": 417,
     "metadata": {},
     "output_type": "execute_result"
    }
   ],
   "source": [
    "# when a man is pulled over, how often is it for speeding?\n",
    "ri[ri.subject_sex == 'male'].reason_for_stop.value_counts(normalize=True)\n"
   ]
  },
  {
   "cell_type": "code",
   "execution_count": 418,
   "metadata": {},
   "outputs": [
    {
     "data": {
      "text/plain": [
       "Speeding                            0.657308\n",
       "Other Traffic Violation             0.136581\n",
       "Equipment/Inspection Violation      0.107055\n",
       "Registration Violation              0.043077\n",
       "Seatbelt Violation                  0.027071\n",
       "Call for Service                    0.018057\n",
       "Special Detail/Directed Patrol      0.005071\n",
       "Motorist Assist/Courtesy            0.002532\n",
       "Violation of City/Town Ordinance    0.001647\n",
       "APB                                 0.000831\n",
       "Suspicious Person                   0.000564\n",
       "Warrant                             0.000206\n",
       "Name: reason_for_stop, dtype: float64"
      ]
     },
     "execution_count": 418,
     "metadata": {},
     "output_type": "execute_result"
    }
   ],
   "source": [
    "ri[ri.subject_sex == 'female'].reason_for_stop.value_counts(normalize=True)"
   ]
  },
  {
   "cell_type": "code",
   "execution_count": 419,
   "metadata": {},
   "outputs": [
    {
     "data": {
      "text/plain": [
       "subject_sex  reason_for_stop                 \n",
       "female       Speeding                            0.657308\n",
       "             Other Traffic Violation             0.136581\n",
       "             Equipment/Inspection Violation      0.107055\n",
       "             Registration Violation              0.043077\n",
       "             Seatbelt Violation                  0.027071\n",
       "             Call for Service                    0.018057\n",
       "             Special Detail/Directed Patrol      0.005071\n",
       "             Motorist Assist/Courtesy            0.002532\n",
       "             Violation of City/Town Ordinance    0.001647\n",
       "             APB                                 0.000831\n",
       "             Suspicious Person                   0.000564\n",
       "             Warrant                             0.000206\n",
       "male         Speeding                            0.522364\n",
       "             Other Traffic Violation             0.206948\n",
       "             Equipment/Inspection Violation      0.135102\n",
       "             Registration Violation              0.040581\n",
       "             Special Detail/Directed Patrol      0.037136\n",
       "             Seatbelt Violation                  0.036555\n",
       "             Call for Service                    0.014987\n",
       "             Violation of City/Town Ordinance    0.002347\n",
       "             Motorist Assist/Courtesy            0.001880\n",
       "             APB                                 0.001076\n",
       "             Suspicious Person                   0.000767\n",
       "             Warrant                             0.000258\n",
       "Name: reason_for_stop, dtype: float64"
      ]
     },
     "execution_count": 419,
     "metadata": {},
     "output_type": "execute_result"
    }
   ],
   "source": [
    "# combines the two lines above\n",
    "ri.groupby('subject_sex').reason_for_stop.value_counts(normalize=True)"
   ]
  },
  {
   "cell_type": "code",
   "execution_count": 420,
   "metadata": {},
   "outputs": [
    {
     "data": {
      "text/plain": [
       "raw_row_number                0\n",
       "date                         10\n",
       "time                         10\n",
       "zone                         10\n",
       "subject_race              29073\n",
       "subject_sex               29097\n",
       "department_id                10\n",
       "type                          0\n",
       "arrest_made               29073\n",
       "citation_issued           29073\n",
       "warning_issued            29073\n",
       "outcome                   35841\n",
       "contraband_found         491919\n",
       "contraband_drugs         493693\n",
       "contraband_weapons       497886\n",
       "contraband_alcohol       508464\n",
       "contraband_other         491919\n",
       "frisk_performed              10\n",
       "search_conducted              0\n",
       "search_basis             491919\n",
       "reason_for_search        491919\n",
       "reason_for_stop           29073\n",
       "vehicle_make             191564\n",
       "vehicle_model            279593\n",
       "raw_BasisForStop          29073\n",
       "raw_OperatorRace          29073\n",
       "raw_OperatorSex           29073\n",
       "raw_ResultOfStop          29073\n",
       "raw_SearchResultOne      491919\n",
       "raw_SearchResultTwo      508862\n",
       "raw_SearchResultThree    509513\n",
       "dtype: int64"
      ]
     },
     "execution_count": 420,
     "metadata": {},
     "output_type": "execute_result"
    }
   ],
   "source": [
    "ri.isnull().sum()"
   ]
  },
  {
   "cell_type": "markdown",
   "metadata": {},
   "source": [
    "### Which year had the least number of stops?"
   ]
  },
  {
   "cell_type": "code",
   "execution_count": 421,
   "metadata": {},
   "outputs": [
    {
     "data": {
      "text/plain": [
       "<AxesSubplot:>"
      ]
     },
     "execution_count": 421,
     "metadata": {},
     "output_type": "execute_result"
    },
    {
     "data": {
      "image/png": "[encoded data removed]",
      "text/plain": [
       "<Figure size 432x288 with 1 Axes>"
      ]
     },
     "metadata": {
      "needs_background": "light"
     },
     "output_type": "display_data"
    }
   ],
   "source": [
    "#ri.date.str.slice(0, 4) # get the year\n",
    "ri.date.str.slice(0, 4).value_counts().plot()"
   ]
  },
  {
   "cell_type": "code",
   "execution_count": 422,
   "metadata": {},
   "outputs": [],
   "source": [
    "### How does drug activity change by time of day?"
   ]
  },
  {
   "cell_type": "code",
   "execution_count": 423,
   "metadata": {},
   "outputs": [
    {
     "data": {
      "text/plain": [
       "<AxesSubplot:xlabel='time'>"
      ]
     },
     "execution_count": 423,
     "metadata": {},
     "output_type": "execute_result"
    },
    {
     "data": {
      "image/png": "[encoded data removed]",
      "text/plain": [
       "<Figure size 432x288 with 1 Axes>"
      ]
     },
     "metadata": {
      "needs_background": "light"
     },
     "output_type": "display_data"
    }
   ],
   "source": [
    "ri.groupby('time').contraband_drugs.sum().plot()"
   ]
  },
  {
   "cell_type": "code",
   "execution_count": 424,
   "metadata": {},
   "outputs": [
    {
     "data": {
      "text/plain": [
       "0    11\n",
       "1    12\n",
       "2    12\n",
       "3    12\n",
       "4    13\n",
       "Name: time, dtype: object"
      ]
     },
     "execution_count": 424,
     "metadata": {},
     "output_type": "execute_result"
    }
   ],
   "source": [
    "ri.time.str.slice(0,2).head()"
   ]
  },
  {
   "cell_type": "code",
   "execution_count": 369,
   "metadata": {},
   "outputs": [
    {
     "data": {
      "text/plain": [
       "<AxesSubplot:xlabel='time'>"
      ]
     },
     "execution_count": 369,
     "metadata": {},
     "output_type": "execute_result"
    },
    {
     "data": {
      "image/png": "[encoded data removed]",
      "text/plain": [
       "<Figure size 432x288 with 1 Axes>"
      ]
     },
     "metadata": {
      "needs_background": "light"
     },
     "output_type": "display_data"
    }
   ],
   "source": [
    "ri.groupby(ri.time.str.slice(0,2)).contraband_drugs.sum().plot()"
   ]
  },
  {
   "cell_type": "code",
   "execution_count": 214,
   "metadata": {},
   "outputs": [],
   "source": [
    "import numpy as np"
   ]
  },
  {
   "cell_type": "code",
   "execution_count": 215,
   "metadata": {},
   "outputs": [
    {
     "data": {
      "text/plain": [
       "(509681, 31)"
      ]
     },
     "execution_count": 215,
     "metadata": {},
     "output_type": "execute_result"
    }
   ],
   "source": [
    "ri = pd.read_csv('ri_statewide_2020_04_01.csv', low_memory=False)\n"
   ]
  },
  {
   "cell_type": "code",
   "execution_count": 352,
   "metadata": {},
   "outputs": [],
   "source": [
    "# pip install pandas_ods_reader \n",
    "from pandas_ods_reader import read_ods"
   ]
  },
  {
   "cell_type": "code",
   "execution_count": 353,
   "metadata": {},
   "outputs": [],
   "source": [
    "df = read_ods(\"world_population.ods\", 1)"
   ]
  },
  {
   "cell_type": "code",
   "execution_count": 354,
   "metadata": {},
   "outputs": [],
   "source": [
    "# drop unecesary data\n",
    "df = df.drop([\"Index\", \"Variant\", \"Region, subregion, country or area *\", \"Country code\", \"Type\", \"Parent code\", \"Reference date (as of 1 July)\"], axis=1)"
   ]
  },
  {
   "cell_type": "code",
   "execution_count": 355,
   "metadata": {},
   "outputs": [],
   "source": [
    "import numpy as np\n",
    "df = df.sum()\n",
    "p = df/df.sum()\n",
    "p = p.T"
   ]
  },
  {
   "cell_type": "code",
   "execution_count": 356,
   "metadata": {},
   "outputs": [],
   "source": [
    "driver_age = pd.DataFrame(np.random.choice(101, p = p, size=500))"
   ]
  },
  {
   "cell_type": "code",
   "execution_count": 357,
   "metadata": {},
   "outputs": [],
   "source": [
    "ri['driver_age'] = driver_age"
   ]
  },
  {
   "cell_type": "code",
   "execution_count": 368,
   "metadata": {},
   "outputs": [
    {
     "data": {
      "text/plain": [
       "array([[<AxesSubplot:title={'center':'APB'}>,\n",
       "        <AxesSubplot:title={'center':'Call for Service'}>,\n",
       "        <AxesSubplot:title={'center':'Equipment/Inspection Violation'}>],\n",
       "       [<AxesSubplot:title={'center':'Motorist Assist/Courtesy'}>,\n",
       "        <AxesSubplot:title={'center':'Other Traffic Violation'}>,\n",
       "        <AxesSubplot:title={'center':'Registration Violation'}>],\n",
       "       [<AxesSubplot:title={'center':'Seatbelt Violation'}>,\n",
       "        <AxesSubplot:title={'center':'Special Detail/Directed Patrol'}>,\n",
       "        <AxesSubplot:title={'center':'Speeding'}>],\n",
       "       [<AxesSubplot:title={'center':'Suspicious Person'}>,\n",
       "        <AxesSubplot:title={'center':'Violation of City/Town Ordinance'}>,\n",
       "        <AxesSubplot:title={'center':'Warrant'}>]], dtype=object)"
      ]
     },
     "execution_count": 368,
     "metadata": {},
     "output_type": "execute_result"
    },
    {
     "data": {
      "image/png": "[encoded data removed]",
      "text/plain": [
       "<Figure size 432x288 with 12 Axes>"
      ]
     },
     "metadata": {
      "needs_background": "light"
     },
     "output_type": "display_data"
    }
   ],
   "source": [
    "ri.hist('driver_age', by='reason_for_stop', sharex=True, sharey=True)"
   ]
  }
 ],
 "metadata": {
  "kernelspec": {
   "display_name": "Python 3",
   "language": "python",
   "name": "python3"
  },
  "language_info": {
   "codemirror_mode": {
    "name": "ipython",
    "version": 3
   },
   "file_extension": ".py",
   "mimetype": "text/x-python",
   "name": "python",
   "nbconvert_exporter": "python",
   "pygments_lexer": "ipython3",
   "version": "3.8.5"
  }
 },
 "nbformat": 4,
 "nbformat_minor": 4
}

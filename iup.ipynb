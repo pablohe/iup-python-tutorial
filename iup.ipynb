{
 "cells": [
  {
   "cell_type": "markdown",
   "metadata": {},
   "source": [
    "# IUP Python Tutorial\n",
    "\n",
    "## Definitions\n",
    "\n",
    "1. What is and how I can work with python\n",
    "1. Variables types\n",
    "1. Functions build in\n",
    "1. User defined functions\n",
    "1. import libraries\n",
    "1. virtual environments\n",
    "1. pip\n",
    "1. numpy\n",
    "1. matplotlib\n",
    "1. basemap\n"
   ]
  },
  {
   "cell_type": "code",
   "execution_count": null,
   "metadata": {},
   "outputs": [],
   "source": []
  },
  {
   "cell_type": "code",
   "execution_count": null,
   "metadata": {},
   "outputs": [],
   "source": []
  },
  {
   "cell_type": "markdown",
   "metadata": {},
   "source": [
    "# What is and how can I work with python?\n",
    "\n",
    "Python is a programing languaje, ...\n",
    "\n",
    "You can work using python:\n",
    " - Jupyter notebook\n",
    " - From terminal using Ipython\n",
    " - Puting your code in a text file (usually .py extension)"
   ]
  },
  {
   "cell_type": "code",
   "execution_count": null,
   "metadata": {},
   "outputs": [],
   "source": []
  },
  {
   "cell_type": "markdown",
   "metadata": {},
   "source": [
    "```bash\n",
    "$ jupyter notebook\n",
    "$ ipython\n",
    "```"
   ]
  },
  {
   "cell_type": "code",
   "execution_count": null,
   "metadata": {},
   "outputs": [],
   "source": []
  },
  {
   "cell_type": "code",
   "execution_count": null,
   "metadata": {},
   "outputs": [],
   "source": []
  },
  {
   "cell_type": "code",
   "execution_count": 1,
   "metadata": {},
   "outputs": [
    {
     "name": "stdout",
     "output_type": "stream",
     "text": [
      "2\n"
     ]
    }
   ],
   "source": [
    "# coment\n",
    "# Variable definition\n",
    "my_int = 2\n",
    "my_string = 'hello world'\n",
    "my_real = 2.0\n",
    "\n",
    "print(my_int)"
   ]
  },
  {
   "cell_type": "code",
   "execution_count": 3,
   "metadata": {},
   "outputs": [
    {
     "data": {
      "text/plain": [
       "60"
      ]
     },
     "execution_count": 3,
     "metadata": {},
     "output_type": "execute_result"
    }
   ],
   "source": [
    "# build in funcions\n",
    "# e.g. operations\n",
    "\n",
    "50+10"
   ]
  },
  {
   "cell_type": "code",
   "execution_count": 6,
   "metadata": {},
   "outputs": [],
   "source": [
    "# and some Abstract data types like diccionaries:\n",
    "\n",
    "my_catalog = {}\n",
    "my_catalog['apples'] = 10\n",
    "my_catalog['lemon'] = 10"
   ]
  },
  {
   "cell_type": "code",
   "execution_count": 7,
   "metadata": {},
   "outputs": [
    {
     "name": "stdout",
     "output_type": "stream",
     "text": [
      "dict_keys(['apples', 'lemon'])\n"
     ]
    }
   ],
   "source": [
    "# keys\n",
    "print(my_catalog.keys())"
   ]
  },
  {
   "cell_type": "code",
   "execution_count": 8,
   "metadata": {},
   "outputs": [
    {
     "name": "stdout",
     "output_type": "stream",
     "text": [
      "dict_values([10, 10])\n",
      "10\n"
     ]
    }
   ],
   "source": [
    "# Values\n",
    "print(my_catalog.values())\n",
    "print(my_catalog['apples'])"
   ]
  },
  {
   "cell_type": "code",
   "execution_count": 10,
   "metadata": {},
   "outputs": [],
   "source": [
    "\n",
    "def my_operation(number):\n",
    "    return number > 10\n"
   ]
  },
  {
   "cell_type": "code",
   "execution_count": 11,
   "metadata": {},
   "outputs": [
    {
     "data": {
      "text/plain": [
       "False"
      ]
     },
     "execution_count": 11,
     "metadata": {},
     "output_type": "execute_result"
    }
   ],
   "source": [
    "my_operation(1)"
   ]
  },
  {
   "cell_type": "code",
   "execution_count": 12,
   "metadata": {},
   "outputs": [
    {
     "data": {
      "text/plain": [
       "True"
      ]
     },
     "execution_count": 12,
     "metadata": {},
     "output_type": "execute_result"
    }
   ],
   "source": [
    "my_operation(100)"
   ]
  },
  {
   "cell_type": "markdown",
   "metadata": {},
   "source": [
    "## How to use modules "
   ]
  },
  {
   "cell_type": "code",
   "execution_count": 17,
   "metadata": {},
   "outputs": [],
   "source": [
    "import datetime"
   ]
  },
  {
   "cell_type": "code",
   "execution_count": 22,
   "metadata": {},
   "outputs": [],
   "source": [
    "my_datetime = datetime.date(2020,11,10)"
   ]
  },
  {
   "cell_type": "code",
   "execution_count": 23,
   "metadata": {},
   "outputs": [
    {
     "data": {
      "text/plain": [
       "10"
      ]
     },
     "execution_count": 23,
     "metadata": {},
     "output_type": "execute_result"
    }
   ],
   "source": [
    "my_datetime.day"
   ]
  },
  {
   "cell_type": "code",
   "execution_count": 24,
   "metadata": {},
   "outputs": [
    {
     "data": {
      "text/plain": [
       "11"
      ]
     },
     "execution_count": 24,
     "metadata": {},
     "output_type": "execute_result"
    }
   ],
   "source": [
    "my_datetime.month"
   ]
  },
  {
   "cell_type": "code",
   "execution_count": 16,
   "metadata": {},
   "outputs": [],
   "source": [
    "# geting package help\n",
    "datetime.timedelta?"
   ]
  },
  {
   "cell_type": "markdown",
   "metadata": {},
   "source": [
    "## Virtual environments\n",
    "\n",
    "Helps to work in an isolate the packages dependencies. Creating a virtual env named `iup`\n",
    "- pros: isolated environment\n",
    "- cons: dublicated the space for libraries\n"
   ]
  },
  {
   "cell_type": "markdown",
   "metadata": {},
   "source": [
    "```bash\n",
    "$ virtualenv iup\n",
    "created virtual environment CPython3.8.5.final.0-64 in 486ms\n",
    "  creator CPython3Posix(dest=/home/pablo/iup-python-tutorial/iup-test, clear=False, global=False)\n",
    "  seeder FromAppData(download=False, pyparsing=latest, six=latest, appdirs=latest, distlib=latest, msgpack=latest, pkg_resources=latest, webencodings=latest, requests=latest, wheel=latest, pytoml=latest, colorama=latest, html5lib=latest, progress=latest, pip=latest, packaging=latest, chardet=latest, setuptools=latest, distro=latest, CacheControl=latest, idna=latest, pep517=latest, certifi=latest, urllib3=latest, contextlib2=latest, lockfile=latest, ipaddr=latest, retrying=latest, via=copy, app_data_dir=/home/pablo/.local/share/virtualenv/seed-app-data/v1.0.1.debian)\n",
    "  activators BashActivator,CShellActivator,FishActivator,PowerShellActivator,PythonActivator,XonshActivator\n",
    "```"
   ]
  },
  {
   "cell_type": "markdown",
   "metadata": {},
   "source": [
    "```bash\n",
    "$ source iup/bin/activate\n",
    "(iup) $\n",
    "\n",
    "```"
   ]
  },
  {
   "cell_type": "markdown",
   "metadata": {},
   "source": [
    "## PIP\n",
    "The Python Package Installer\n",
    "\n",
    "https://github.com/pypa/pip\n",
    "\n",
    "```bash\n",
    "(iup)$pip install jupyter\n",
    "```\n",
    "\n",
    "Now you will get accessible `jupyter` in `iup` virtual environment."
   ]
  },
  {
   "cell_type": "markdown",
   "metadata": {},
   "source": []
  },
  {
   "cell_type": "code",
   "execution_count": null,
   "metadata": {},
   "outputs": [],
   "source": []
  },
  {
   "cell_type": "code",
   "execution_count": null,
   "metadata": {},
   "outputs": [],
   "source": []
  }
 ],
 "metadata": {
  "kernelspec": {
   "display_name": "Python 3",
   "language": "python",
   "name": "python3"
  },
  "language_info": {
   "codemirror_mode": {
    "name": "ipython",
    "version": 3
   },
   "file_extension": ".py",
   "mimetype": "text/x-python",
   "name": "python",
   "nbconvert_exporter": "python",
   "pygments_lexer": "ipython3",
   "version": "3.8.5"
  }
 },
 "nbformat": 4,
 "nbformat_minor": 4
}
